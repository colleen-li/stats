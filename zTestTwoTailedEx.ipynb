{
 "cells": [
  {
   "cell_type": "code",
   "execution_count": 35,
   "id": "64a9b1bd-6837-48a5-8a2a-1b0c10c67e30",
   "metadata": {},
   "outputs": [],
   "source": [
    "#A company developed a drug to increase IQ\n",
    "#The standard deviation of IQ in the population is 17.5\n",
    "#The drug is tested on 42 patients and obtain a mean IQ of 93.49\n",
    "#Q: Using α = 0.05, is the IQ significantly different than the population mean of 95?"
   ]
  },
  {
   "cell_type": "code",
   "execution_count": 67,
   "id": "bd9a62b1-613e-439f-bbcc-181d71c530b0",
   "metadata": {},
   "outputs": [],
   "source": [
    "import math\n",
    "import scipy.stats as stats"
   ]
  },
  {
   "cell_type": "code",
   "execution_count": 69,
   "id": "5c688312-7c9e-4748-ab23-85ec7f912952",
   "metadata": {},
   "outputs": [
    {
     "name": "stdout",
     "output_type": "stream",
     "text": [
      "2.7003086243366083\n"
     ]
    }
   ],
   "source": [
    "#calculate standard error\n",
    "\n",
    "std = 17.5\n",
    "n = 42\n",
    "\n",
    "standardError = std/math.sqrt(n)\n",
    "print(standardError)"
   ]
  },
  {
   "cell_type": "code",
   "execution_count": 71,
   "id": "f8cbde3f-f60c-4fd3-86b2-4675515ef4e0",
   "metadata": {},
   "outputs": [
    {
     "name": "stdout",
     "output_type": "stream",
     "text": [
      "-0.559195340262623\n"
     ]
    }
   ],
   "source": [
    "#calculates z-score/test statistic\n",
    "\n",
    "sampleMean = 93.49\n",
    "trueMean = 95\n",
    "\n",
    "z_score = (sampleMean - trueMean)/standardError\n",
    "print(z_score)"
   ]
  },
  {
   "cell_type": "code",
   "execution_count": 73,
   "id": "6974b77f-6d52-4574-9a4b-9440323067bf",
   "metadata": {},
   "outputs": [
    {
     "name": "stdout",
     "output_type": "stream",
     "text": [
      "0.5760284129456739\n"
     ]
    }
   ],
   "source": [
    "#calculate p-value\n",
    "\n",
    "p_value = stats.norm.sf(abs(z_score)) * 2\n",
    "print(p_value)"
   ]
  },
  {
   "cell_type": "code",
   "execution_count": 75,
   "id": "d610c562-f59c-4aed-9f55-dc22fb31fc7e",
   "metadata": {},
   "outputs": [
    {
     "name": "stdout",
     "output_type": "stream",
     "text": [
      "we fail to reject the null hypothesis. we do not have convincing evidence that the IQ is significantly different than the population mean.\n"
     ]
    }
   ],
   "source": [
    "#conclusion\n",
    "\n",
    "if p_value < 0.05:\n",
    "    print(\"we reject the null hypothesis, and we have convincing evidence that the IQ is significantly different than the population mean of 100\")\n",
    "elif p_value >= 0.05:\n",
    "    print(\"we fail to reject the null hypothesis. we do not have convincing evidence that the IQ is significantly different than the population mean.\")"
   ]
  },
  {
   "cell_type": "code",
   "execution_count": null,
   "id": "03330c10-5c23-4a2a-af0c-2c7fdf712e99",
   "metadata": {},
   "outputs": [],
   "source": []
  }
 ],
 "metadata": {
  "kernelspec": {
   "display_name": "Python 3 (ipykernel)",
   "language": "python",
   "name": "python3"
  },
  "language_info": {
   "codemirror_mode": {
    "name": "ipython",
    "version": 3
   },
   "file_extension": ".py",
   "mimetype": "text/x-python",
   "name": "python",
   "nbconvert_exporter": "python",
   "pygments_lexer": "ipython3",
   "version": "3.11.5"
  }
 },
 "nbformat": 4,
 "nbformat_minor": 5
}
