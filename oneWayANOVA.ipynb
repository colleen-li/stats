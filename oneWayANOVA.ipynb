{
 "cells": [
  {
   "cell_type": "code",
   "execution_count": 161,
   "id": "b2393407-8c32-4b4d-9b18-8e5707d6d246",
   "metadata": {},
   "outputs": [],
   "source": [
    "#Assumptions for ANOVA: independence, normality**, equality/homogeneity of variance\n",
    "\n",
    "#**tests for normality: central tendency (mean and median), skewness, kurtosis\n",
    "\n",
    "#Q: How strong is the effect of the dosage level of the new medication on cholesterol?\n",
    "##Reference: https://stattrek.com/anova/completely-randomized/one-way-example"
   ]
  },
  {
   "cell_type": "code",
   "execution_count": 163,
   "id": "2bb548cc-0fd5-4604-8089-8f06949d16a1",
   "metadata": {},
   "outputs": [],
   "source": [
    "import pandas as pd\n",
    "import scipy.stats as stats\n",
    "import numpy as np"
   ]
  },
  {
   "cell_type": "code",
   "execution_count": 165,
   "id": "d64c21ea-c770-4408-aab5-7f114c4c814b",
   "metadata": {},
   "outputs": [],
   "source": [
    "data = pd.read_csv(\"/Users/colleenl/Documents/datasets/dosage.csv\")"
   ]
  },
  {
   "cell_type": "code",
   "execution_count": 167,
   "id": "762d3f7d-0bd7-4460-9c4a-61274c5e4c7b",
   "metadata": {},
   "outputs": [
    {
     "name": "stdout",
     "output_type": "stream",
     "text": [
      "0 mg\n",
      "50 mg\n",
      "100 mg\n"
     ]
    }
   ],
   "source": [
    "columns = data.columns\n",
    "\n",
    "##gives length // total number of columns\n",
    "len(columns)\n",
    "\n",
    "##prints column headings\n",
    "for col in range(len(columns)):\n",
    "    print(columns[col])"
   ]
  },
  {
   "cell_type": "code",
   "execution_count": 169,
   "id": "93faaedb-0044-4d0e-b11d-2ae1ae912923",
   "metadata": {},
   "outputs": [
    {
     "name": "stdout",
     "output_type": "stream",
     "text": [
      "F_onewayResult(statistic=4.16, pvalue=0.04241751817647503)\n"
     ]
    }
   ],
   "source": [
    "anova = stats.f_oneway(data[\"0 mg\"], data[\"50 mg\"], data[\"100 mg\"])\n",
    "print(anova)"
   ]
  },
  {
   "cell_type": "code",
   "execution_count": 171,
   "id": "4630466a-1642-4257-9f33-9147b3b8b411",
   "metadata": {},
   "outputs": [],
   "source": [
    "#step-by-step calculations"
   ]
  },
  {
   "cell_type": "code",
   "execution_count": 173,
   "id": "eb7f822c-78ba-49fe-b36c-4a46efe1c3a5",
   "metadata": {},
   "outputs": [
    {
     "name": "stdout",
     "output_type": "stream",
     "text": [
      "Average for 0 mg: 258.0\n",
      "Average for 50 mg: 246.0\n",
      "Average for 100 mg: 210.0\n",
      "Overall mean: 238.0\n"
     ]
    }
   ],
   "source": [
    "## average of each dosage\n",
    "\n",
    "mean1 = np.mean(data[\"0 mg\"])\n",
    "mean2 = np.mean(data[\"50 mg\"])\n",
    "mean3 = np.mean(data[\"100 mg\"])\n",
    "\n",
    "print(\"Average for 0 mg: \" + str(mean1))\n",
    "print(\"Average for 50 mg: \" + str(mean2))\n",
    "print(\"Average for 100 mg: \" + str(mean3))\n",
    "\n",
    "##instead of len(data.columns), you can also use data.shape[1]\n",
    "overallMean = (mean1 + mean2 + mean3)/(len(data.columns))\n",
    "print('Overall mean: {}'.format(overallMean))"
   ]
  },
  {
   "cell_type": "code",
   "execution_count": 192,
   "id": "f56c6dcd-8441-4ca5-879b-cb1a2a105deb",
   "metadata": {},
   "outputs": [
    {
     "name": "stdout",
     "output_type": "stream",
     "text": [
      "between groups sum of squared differences: 6240.0\n",
      "between groups mean square value: 3120.0\n",
      "Within-group sum of squared difference: 9000.0\n",
      "within-group mean square value: 750.0\n",
      "f-score: 4.16\n"
     ]
    }
   ],
   "source": [
    "#between-group sum of squared differences\n",
    "diffMeanOne = mean1 - overallMean\n",
    "diffMeanTwo = mean2 - overallMean\n",
    "diffMeanThree = mean3 - overallMean\n",
    "\n",
    "SSB = (data.shape[0])*(diffMeanOne**2 + diffMeanTwo**2 + diffMeanThree**2)\n",
    "print(\"between groups sum of squared differences: \" + str(SSB))\n",
    "\n",
    "#between-groups mean square value\n",
    "degreesOfFreedom = len(data.columns) - 1\n",
    "MSB = SSB/degreesOfFreedom\n",
    "print(\"between groups mean square value: \" + str(MSB))\n",
    "\n",
    "#within-group sum of squares\n",
    "errorOne = list(data[\"0 mg\"] - mean1)\n",
    "errorTwo = list(data[\"50 mg\"] - mean2)\n",
    "errorThree = list(data[\"100 mg\"] - mean3)\n",
    "\n",
    "overallError = errorOne + errorTwo + errorThree\n",
    "ssw = []\n",
    "for i in overallError:\n",
    "    ssw.append(i**2)\n",
    "\n",
    "SSW = np.sum(ssw)\n",
    "\n",
    "print(\"Within-group sum of squared difference: \" + str(SSW))\n",
    "\n",
    "#within-group mean square value\n",
    "degreesOfFreedomOfAllData = (data.shape[0] * data.shape[1]) - data.shape[1]\n",
    "MSW = SSW/degreesOfFreedomOfAllData\n",
    "print(\"within-group mean square value: \" + str(MSW))\n",
    "\n",
    "#f-score\n",
    "fScore = MSB/MSW\n",
    "print(\"f-score: \" + str(fScore))"
   ]
  },
  {
   "cell_type": "code",
   "execution_count": 194,
   "id": "db6f5c3e-aa3c-47a8-a05a-631425431260",
   "metadata": {},
   "outputs": [],
   "source": [
    "##for strength of the treatment effect -> must compute eta squared\n",
    "##eta squared is (between-groups sum of squares / total sum of squares)"
   ]
  },
  {
   "cell_type": "code",
   "execution_count": 196,
   "id": "f8afae63-1d6c-420a-a372-a396d06fb643",
   "metadata": {},
   "outputs": [
    {
     "name": "stdout",
     "output_type": "stream",
     "text": [
      "strength of effect: 0.4094488188976378\n"
     ]
    }
   ],
   "source": [
    "#total sum of squares\n",
    "SST = SSB + SSW\n",
    "etaSquared = SSB/SST\n",
    "print(\"strength of effect: \" + str(etaSquared))"
   ]
  },
  {
   "cell_type": "code",
   "execution_count": 200,
   "id": "a9eecc31-11b8-4ba4-a7f3-f3af7df927e0",
   "metadata": {},
   "outputs": [
    {
     "name": "stdout",
     "output_type": "stream",
     "text": [
      "41% of the variance incholesterol can be explained by the effect of the treatment\n"
     ]
    }
   ],
   "source": [
    "#conclusion\n",
    "dependentVar = \"cholesterol\"\n",
    "independentVar = \"treatment\"\n",
    "print(\"41% of the variance in\" + dependentVar + \" can be explained by the effect of the \" + independentVar)"
   ]
  },
  {
   "cell_type": "code",
   "execution_count": 204,
   "id": "c7892344-4acc-405d-9604-2d9d7c3c67ca",
   "metadata": {},
   "outputs": [],
   "source": [
    "##graphing\n",
    "from scipy.stats import f \n",
    "import matplotlib.pyplot as plt"
   ]
  },
  {
   "cell_type": "code",
   "execution_count": 215,
   "id": "220970b8-3e23-47c1-98f4-88d40a9c32e2",
   "metadata": {},
   "outputs": [
    {
     "data": {
      "text/plain": [
       "<matplotlib.legend.Legend at 0x1681ac610>"
      ]
     },
     "execution_count": 215,
     "metadata": {},
     "output_type": "execute_result"
    },
    {
     "data": {
      "image/png": "[encoded data removed]",
      "text/plain": [
       "<Figure size 640x480 with 1 Axes>"
      ]
     },
     "metadata": {},
     "output_type": "display_data"
    }
   ],
   "source": [
    "fig, ax = plt.subplots(1,1)\n",
    "dfn, dfd = degreesOfFreedom, (data.shape[0] * data.shape[1])\n",
    "\n",
    "#line for f\n",
    "x = np.linspace(f.ppf(0.01, dfn, dfd), f.ppf(0.99, dfn, dfd), 100)\n",
    "ax.plot(x, f.pdf(x, dfn, dfd), 'r-', lw = 5, alpha = 0.5, label = \"f pdf\")\n",
    "\n",
    "#line for critical value\n",
    "plt.axvline(x = 3.68, label = \"critical value for alpha = 0.05)\", color = \"g\")\n",
    "\n",
    "#line for f-score\n",
    "plt.axvline(x = fScore, label = \"f-score\")\n",
    "\n",
    "plt.legend()"
   ]
  },
  {
   "cell_type": "code",
   "execution_count": 217,
   "id": "afdfab51-96f9-4de4-b3b5-0398dac44355",
   "metadata": {},
   "outputs": [],
   "source": [
    "#conclusion2: we reject the null hypothesis because f-score > critical valye for alpha = 0.05\n",
    "#There is a difference between the cholesterol level among the different doses of the treatment"
   ]
  }
 ],
 "metadata": {
  "kernelspec": {
   "display_name": "Python 3 (ipykernel)",
   "language": "python",
   "name": "python3"
  },
  "language_info": {
   "codemirror_mode": {
    "name": "ipython",
    "version": 3
   },
   "file_extension": ".py",
   "mimetype": "text/x-python",
   "name": "python",
   "nbconvert_exporter": "python",
   "pygments_lexer": "ipython3",
   "version": "3.11.5"
  }
 },
 "nbformat": 4,
 "nbformat_minor": 5
}
