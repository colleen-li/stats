{
 "cells": [
  {
   "cell_type": "code",
   "execution_count": 13,
   "id": "bcbfd4d0-b3ce-4ed6-a1e2-6ef0ba9e45d6",
   "metadata": {},
   "outputs": [],
   "source": [
    "import pandas as pd\n",
    "import numpy as np"
   ]
  },
  {
   "cell_type": "code",
   "execution_count": 5,
   "id": "1963baed-5c23-4a86-8253-7527cb02f587",
   "metadata": {},
   "outputs": [],
   "source": [
    "file = pd.read_csv('/Users/colleenl/Documents/dataset.csv')"
   ]
  },
  {
   "cell_type": "code",
   "execution_count": 7,
   "id": "082d4db3-c494-45f5-b7b0-b06c045c0dcd",
   "metadata": {},
   "outputs": [
    {
     "name": "stdout",
     "output_type": "stream",
     "text": [
      "    data set\n",
      "0         34\n",
      "1         34\n",
      "2         72\n",
      "3         35\n",
      "4         57\n",
      "5         32\n",
      "6         22\n",
      "7         23\n",
      "8         88\n",
      "9         54\n",
      "10        23\n",
      "11        56\n",
      "12        98\n",
      "13        23\n",
      "14        74\n",
      "15        13\n",
      "16        64\n",
      "17        98\n",
      "18        64\n",
      "19        24\n",
      "20        75\n",
      "21        49\n"
     ]
    }
   ],
   "source": [
    "print(file)"
   ]
  },
  {
   "cell_type": "code",
   "execution_count": null,
   "id": "c22fb1c9-bfd9-4cb0-a505-5b752f311d1e",
   "metadata": {},
   "outputs": [],
   "source": []
  }
 ],
 "metadata": {
  "kernelspec": {
   "display_name": "Python 3 (ipykernel)",
   "language": "python",
   "name": "python3"
  },
  "language_info": {
   "codemirror_mode": {
    "name": "ipython",
    "version": 3
   },
   "file_extension": ".py",
   "mimetype": "text/x-python",
   "name": "python",
   "nbconvert_exporter": "python",
   "pygments_lexer": "ipython3",
   "version": "3.11.5"
  }
 },
 "nbformat": 4,
 "nbformat_minor": 5
}
