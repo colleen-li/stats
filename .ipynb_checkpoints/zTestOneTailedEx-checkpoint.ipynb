{
 "cells": [
  {
   "cell_type": "code",
   "execution_count": 7,
   "id": "61ca674a-d005-45fb-9ae4-35cf4044f580",
   "metadata": {},
   "outputs": [],
   "source": [
    "#The population of all scores are known to have a standard deviation of 9.4. \n",
    "#The university hopes to accept applicants with a score over 223.\n",
    "#This year, the mean score for 45 applicants was 231.09.\n",
    "#Q: Using a value of α = 0.05, is the new mean significant greater than the desired mean of 223?"
   ]
  },
  {
   "cell_type": "code",
   "execution_count": 21,
   "id": "747ca73a-76e0-462b-8225-08e132bd9532",
   "metadata": {},
   "outputs": [],
   "source": [
    "import math\n",
    "import scipy.stats as stats"
   ]
  },
  {
   "cell_type": "code",
   "execution_count": 78,
   "id": "9faab9cf-a19b-4470-a794-c59966e447e8",
   "metadata": {},
   "outputs": [
    {
     "name": "stdout",
     "output_type": "stream",
     "text": [
      "1.4012692658998682\n"
     ]
    }
   ],
   "source": [
    "#calculate standard error\n",
    "std = 9.4\n",
    "n = 45\n",
    "\n",
    "standardError = std/math.sqrt(n)\n",
    "\n",
    "print(standardError)"
   ]
  },
  {
   "cell_type": "code",
   "execution_count": 80,
   "id": "1f9ca04f-3f6f-413e-aeec-81ea35516a28",
   "metadata": {},
   "outputs": [
    {
     "name": "stdout",
     "output_type": "stream",
     "text": [
      "5.7733372142468\n"
     ]
    }
   ],
   "source": [
    "#calculate z-score/test statistic\n",
    "sampleMean = 231.09\n",
    "trueMean = 223\n",
    "\n",
    "testStatistic = (sampleMean - trueMean)/standardError\n",
    "print(testStatistic)"
   ]
  },
  {
   "cell_type": "code",
   "execution_count": 82,
   "id": "d9262545-ac58-49a3-8bd0-0b9e4ad40a91",
   "metadata": {},
   "outputs": [
    {
     "name": "stdout",
     "output_type": "stream",
     "text": [
      "-1.6448536269514729\n",
      "1.6448536269514722\n",
      "1.959963984540054\n"
     ]
    }
   ],
   "source": [
    "##########calculations for z critical values\n",
    "\n",
    "significanceLevel = 0.05\n",
    "\n",
    "#left-tailed test: z critical value\n",
    "leftTailedZCriticalValue = stats.norm.ppf(significanceLevel)\n",
    "print(leftTailedZCriticalValue)\n",
    "\n",
    "#right-tailed test: z critical value\n",
    "rightTailedZCriticalValue = stats.norm.ppf(1-significanceLevel)\n",
    "print(rightTailedZCriticalValue)\n",
    "\n",
    "#two-tailed test: z critical value\n",
    "twoTailedZCriticalValue = stats.norm.ppf(1 - (significanceLevel/2))\n",
    "print(twoTailedZCriticalValue)"
   ]
  },
  {
   "cell_type": "code",
   "execution_count": 84,
   "id": "f1c5de41-0c4a-46f2-be5c-70ad1e1ebfb8",
   "metadata": {},
   "outputs": [
    {
     "name": "stdout",
     "output_type": "stream",
     "text": [
      "3.885834331807385e-09\n"
     ]
    }
   ],
   "source": [
    "#calculating p-value from z-score/testStatistic\n",
    "\n",
    "p_value = stats.norm.sf(abs(testStatistic))\n",
    "print(p_value)"
   ]
  },
  {
   "cell_type": "code",
   "execution_count": 86,
   "id": "f165364a-d473-48e3-aa32-0648af7bd036",
   "metadata": {},
   "outputs": [
    {
     "name": "stdout",
     "output_type": "stream",
     "text": [
      "we reject the null hypothesis, and we have evidence that the new mean was significantly greater than the desired mean\n"
     ]
    }
   ],
   "source": [
    "#conclusion\n",
    "\n",
    "if p_value < 0.05:\n",
    "    print(\"we reject the null hypothesis, and we have evidence that the new mean was significantly greater than the desired mean\")\n",
    "elif p_value >= 0.05:\n",
    "    print(\"we fail to reject the null hypothesis\")"
   ]
  },
  {
   "cell_type": "code",
   "execution_count": null,
   "id": "83de09c5-6a4a-4162-8402-d5f7402363c3",
   "metadata": {},
   "outputs": [],
   "source": []
  }
 ],
 "metadata": {
  "kernelspec": {
   "display_name": "Python 3 (ipykernel)",
   "language": "python",
   "name": "python3"
  },
  "language_info": {
   "codemirror_mode": {
    "name": "ipython",
    "version": 3
   },
   "file_extension": ".py",
   "mimetype": "text/x-python",
   "name": "python",
   "nbconvert_exporter": "python",
   "pygments_lexer": "ipython3",
   "version": "3.11.5"
  }
 },
 "nbformat": 4,
 "nbformat_minor": 5
}
