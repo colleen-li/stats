{
 "cells": [
  {
   "cell_type": "code",
   "execution_count": 2,
   "id": "bcbfd4d0-b3ce-4ed6-a1e2-6ef0ba9e45d6",
   "metadata": {},
   "outputs": [],
   "source": [
    "import pandas as pd\n",
    "import numpy as np"
   ]
  },
  {
   "cell_type": "code",
   "execution_count": 4,
   "id": "7f2b1012-a384-47d7-a9e3-71a00c8beaf4",
   "metadata": {},
   "outputs": [],
   "source": [
    "#reads spreadsheet\n",
    "file = pd.read_csv('/Users/colleenl/Documents/datasets/data.csv')"
   ]
  },
  {
   "cell_type": "code",
   "execution_count": 6,
   "id": "1963baed-5c23-4a86-8253-7527cb02f587",
   "metadata": {},
   "outputs": [
    {
     "data": {
      "text/html": [
       "<div>\n",
       "<style scoped>\n",
       "    .dataframe tbody tr th:only-of-type {\n",
       "        vertical-align: middle;\n",
       "    }\n",
       "\n",
       "    .dataframe tbody tr th {\n",
       "        vertical-align: top;\n",
       "    }\n",
       "\n",
       "    .dataframe thead th {\n",
       "        text-align: right;\n",
       "    }\n",
       "</style>\n",
       "<table border=\"1\" class=\"dataframe\">\n",
       "  <thead>\n",
       "    <tr style=\"text-align: right;\">\n",
       "      <th></th>\n",
       "      <th>Student</th>\n",
       "      <th>Study Hours</th>\n",
       "      <th>Exam Score</th>\n",
       "    </tr>\n",
       "  </thead>\n",
       "  <tbody>\n",
       "    <tr>\n",
       "      <th>0</th>\n",
       "      <td>1</td>\n",
       "      <td>4</td>\n",
       "      <td>45</td>\n",
       "    </tr>\n",
       "    <tr>\n",
       "      <th>1</th>\n",
       "      <td>2</td>\n",
       "      <td>3</td>\n",
       "      <td>78</td>\n",
       "    </tr>\n",
       "    <tr>\n",
       "      <th>2</th>\n",
       "      <td>3</td>\n",
       "      <td>2</td>\n",
       "      <td>70</td>\n",
       "    </tr>\n",
       "    <tr>\n",
       "      <th>3</th>\n",
       "      <td>4</td>\n",
       "      <td>4</td>\n",
       "      <td>56</td>\n",
       "    </tr>\n",
       "    <tr>\n",
       "      <th>4</th>\n",
       "      <td>5</td>\n",
       "      <td>6</td>\n",
       "      <td>55</td>\n",
       "    </tr>\n",
       "  </tbody>\n",
       "</table>\n",
       "</div>"
      ],
      "text/plain": [
       "   Student  Study Hours  Exam Score\n",
       "0        1            4          45\n",
       "1        2            3          78\n",
       "2        3            2          70\n",
       "3        4            4          56\n",
       "4        5            6          55"
      ]
     },
     "execution_count": 6,
     "metadata": {},
     "output_type": "execute_result"
    }
   ],
   "source": [
    "#shows beginning of spreadsheet data\n",
    "file.head()"
   ]
  },
  {
   "cell_type": "code",
   "execution_count": 8,
   "id": "082d4db3-c494-45f5-b7b0-b06c045c0dcd",
   "metadata": {},
   "outputs": [
    {
     "data": {
      "text/html": [
       "<div>\n",
       "<style scoped>\n",
       "    .dataframe tbody tr th:only-of-type {\n",
       "        vertical-align: middle;\n",
       "    }\n",
       "\n",
       "    .dataframe tbody tr th {\n",
       "        vertical-align: top;\n",
       "    }\n",
       "\n",
       "    .dataframe thead th {\n",
       "        text-align: right;\n",
       "    }\n",
       "</style>\n",
       "<table border=\"1\" class=\"dataframe\">\n",
       "  <thead>\n",
       "    <tr style=\"text-align: right;\">\n",
       "      <th></th>\n",
       "      <th>Student</th>\n",
       "      <th>Study Hours</th>\n",
       "      <th>Exam Score</th>\n",
       "    </tr>\n",
       "  </thead>\n",
       "  <tbody>\n",
       "    <tr>\n",
       "      <th>5</th>\n",
       "      <td>6</td>\n",
       "      <td>2</td>\n",
       "      <td>98</td>\n",
       "    </tr>\n",
       "    <tr>\n",
       "      <th>6</th>\n",
       "      <td>7</td>\n",
       "      <td>4</td>\n",
       "      <td>76</td>\n",
       "    </tr>\n",
       "    <tr>\n",
       "      <th>7</th>\n",
       "      <td>8</td>\n",
       "      <td>6</td>\n",
       "      <td>89</td>\n",
       "    </tr>\n",
       "    <tr>\n",
       "      <th>8</th>\n",
       "      <td>9</td>\n",
       "      <td>2</td>\n",
       "      <td>45</td>\n",
       "    </tr>\n",
       "    <tr>\n",
       "      <th>9</th>\n",
       "      <td>10</td>\n",
       "      <td>7</td>\n",
       "      <td>42</td>\n",
       "    </tr>\n",
       "  </tbody>\n",
       "</table>\n",
       "</div>"
      ],
      "text/plain": [
       "   Student  Study Hours  Exam Score\n",
       "5        6            2          98\n",
       "6        7            4          76\n",
       "7        8            6          89\n",
       "8        9            2          45\n",
       "9       10            7          42"
      ]
     },
     "execution_count": 8,
     "metadata": {},
     "output_type": "execute_result"
    }
   ],
   "source": [
    "#shows ending of spreadsheet data\n",
    "file.tail()"
   ]
  },
  {
   "cell_type": "code",
   "execution_count": 10,
   "id": "c22fb1c9-bfd9-4cb0-a505-5b752f311d1e",
   "metadata": {},
   "outputs": [],
   "source": [
    "#### USING PANDAS ####\n",
    "\n",
    "#computes sum of Exam Score column\n",
    "sum = file[\"Exam Score\"].sum()\n",
    "\n",
    "#computes mean of Exam Score column\n",
    "mean = file[\"Exam Score\"].mean()\n",
    "\n",
    "#computes std dev\n",
    "standardDev = file[\"Exam Score\"].std()"
   ]
  },
  {
   "cell_type": "code",
   "execution_count": 12,
   "id": "e9ef85da-a50d-4a95-8f0b-49c727fa035f",
   "metadata": {},
   "outputs": [],
   "source": [
    "#### STEP BY STEP (without pandas) ####\n",
    "\n",
    "#retrieves number of rows\n",
    "#shape returns (row, col); index 0 returns the number of rows\n",
    "rows = file.shape[0]"
   ]
  },
  {
   "cell_type": "code",
   "execution_count": 14,
   "id": "f712832f-e2d6-4406-8d69-f8a34465c14d",
   "metadata": {},
   "outputs": [
    {
     "name": "stdout",
     "output_type": "stream",
     "text": [
      "0\n",
      "()\n"
     ]
    }
   ],
   "source": [
    "#arrays and shape with numPy\n",
    "arr = np.array(0)\n",
    "print(arr)\n",
    "print(arr.shape)"
   ]
  },
  {
   "cell_type": "code",
   "execution_count": 16,
   "id": "e7605cb8-9cbf-4a8b-89c9-4dd67941e733",
   "metadata": {},
   "outputs": [],
   "source": [
    "#computing deviations from mean\n",
    "file[\"deviation\"] = file[\"Exam Score\"]-mean"
   ]
  },
  {
   "cell_type": "code",
   "execution_count": 18,
   "id": "a4fad3bc-d611-456f-afaa-6ea6cc543595",
   "metadata": {},
   "outputs": [
    {
     "name": "stdout",
     "output_type": "stream",
     "text": [
      "19.687559523719543\n"
     ]
    }
   ],
   "source": [
    "#computes standard deviation\n",
    "#mean deviation\n",
    "meanDev = (file[\"deviation\"] ** 2).sum()/(rows-1)\n",
    "std = meanDev ** 0.5\n",
    "print(std)"
   ]
  },
  {
   "cell_type": "code",
   "execution_count": null,
   "id": "60cbfe18-5740-432b-8fd9-9a4eff72d194",
   "metadata": {},
   "outputs": [],
   "source": []
  }
 ],
 "metadata": {
  "kernelspec": {
   "display_name": "Python 3 (ipykernel)",
   "language": "python",
   "name": "python3"
  },
  "language_info": {
   "codemirror_mode": {
    "name": "ipython",
    "version": 3
   },
   "file_extension": ".py",
   "mimetype": "text/x-python",
   "name": "python",
   "nbconvert_exporter": "python",
   "pygments_lexer": "ipython3",
   "version": "3.11.5"
  }
 },
 "nbformat": 4,
 "nbformat_minor": 5
}
