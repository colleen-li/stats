{
 "cells": [
  {
   "cell_type": "code",
   "execution_count": 28,
   "id": "52e73ca6-2428-4af6-a1de-b2720b945a0a",
   "metadata": {},
   "outputs": [],
   "source": [
    "import math\n",
    "import pandas as pd\n",
    "import numpy as np\n",
    "import scipy.stats as stats\n",
    "from statsmodels.stats.weightstats import ztest"
   ]
  },
  {
   "cell_type": "code",
   "execution_count": 30,
   "id": "ea0eccc4-cb5d-41b5-977e-6d287f305d95",
   "metadata": {},
   "outputs": [
    {
     "data": {
      "text/html": [
       "<div>\n",
       "<style scoped>\n",
       "    .dataframe tbody tr th:only-of-type {\n",
       "        vertical-align: middle;\n",
       "    }\n",
       "\n",
       "    .dataframe tbody tr th {\n",
       "        vertical-align: top;\n",
       "    }\n",
       "\n",
       "    .dataframe thead th {\n",
       "        text-align: right;\n",
       "    }\n",
       "</style>\n",
       "<table border=\"1\" class=\"dataframe\">\n",
       "  <thead>\n",
       "    <tr style=\"text-align: right;\">\n",
       "      <th></th>\n",
       "      <th>Unnamed: 0</th>\n",
       "      <th>US Height (in)</th>\n",
       "      <th>Swedish Height (in)</th>\n",
       "      <th>Unnamed: 3</th>\n",
       "      <th>Unnamed: 4</th>\n",
       "      <th>Unnamed: 5</th>\n",
       "      <th>Unnamed: 6</th>\n",
       "      <th>Unnamed: 7</th>\n",
       "      <th>Unnamed: 8</th>\n",
       "    </tr>\n",
       "  </thead>\n",
       "  <tbody>\n",
       "    <tr>\n",
       "      <th>0</th>\n",
       "      <td>1</td>\n",
       "      <td>69.12</td>\n",
       "      <td>74.56</td>\n",
       "      <td>NaN</td>\n",
       "      <td>NaN</td>\n",
       "      <td>NaN</td>\n",
       "      <td>NaN</td>\n",
       "      <td>NaN</td>\n",
       "      <td>NaN</td>\n",
       "    </tr>\n",
       "    <tr>\n",
       "      <th>1</th>\n",
       "      <td>2</td>\n",
       "      <td>66.88</td>\n",
       "      <td>71.89</td>\n",
       "      <td>NaN</td>\n",
       "      <td>NaN</td>\n",
       "      <td>NaN</td>\n",
       "      <td>NaN</td>\n",
       "      <td>NaN</td>\n",
       "      <td>NaN</td>\n",
       "    </tr>\n",
       "    <tr>\n",
       "      <th>2</th>\n",
       "      <td>3</td>\n",
       "      <td>74.82</td>\n",
       "      <td>73.00</td>\n",
       "      <td>NaN</td>\n",
       "      <td>NaN</td>\n",
       "      <td>NaN</td>\n",
       "      <td>NaN</td>\n",
       "      <td>NaN</td>\n",
       "      <td>NaN</td>\n",
       "    </tr>\n",
       "    <tr>\n",
       "      <th>3</th>\n",
       "      <td>4</td>\n",
       "      <td>67.00</td>\n",
       "      <td>67.78</td>\n",
       "      <td>NaN</td>\n",
       "      <td>NaN</td>\n",
       "      <td>NaN</td>\n",
       "      <td>NaN</td>\n",
       "      <td>NaN</td>\n",
       "      <td>NaN</td>\n",
       "    </tr>\n",
       "    <tr>\n",
       "      <th>4</th>\n",
       "      <td>5</td>\n",
       "      <td>69.12</td>\n",
       "      <td>72.22</td>\n",
       "      <td>NaN</td>\n",
       "      <td>NaN</td>\n",
       "      <td>NaN</td>\n",
       "      <td>NaN</td>\n",
       "      <td>NaN</td>\n",
       "      <td>NaN</td>\n",
       "    </tr>\n",
       "  </tbody>\n",
       "</table>\n",
       "</div>"
      ],
      "text/plain": [
       "   Unnamed: 0  US Height (in)  Swedish Height (in)  Unnamed: 3  Unnamed: 4  \\\n",
       "0           1           69.12                74.56         NaN         NaN   \n",
       "1           2           66.88                71.89         NaN         NaN   \n",
       "2           3           74.82                73.00         NaN         NaN   \n",
       "3           4           67.00                67.78         NaN         NaN   \n",
       "4           5           69.12                72.22         NaN         NaN   \n",
       "\n",
       "   Unnamed: 5  Unnamed: 6  Unnamed: 7  Unnamed: 8  \n",
       "0         NaN         NaN         NaN         NaN  \n",
       "1         NaN         NaN         NaN         NaN  \n",
       "2         NaN         NaN         NaN         NaN  \n",
       "3         NaN         NaN         NaN         NaN  \n",
       "4         NaN         NaN         NaN         NaN  "
      ]
     },
     "execution_count": 30,
     "metadata": {},
     "output_type": "execute_result"
    }
   ],
   "source": [
    "file = pd.read_csv(\"/Users/colleenl/Documents/datasets/heights.csv\")\n",
    "file.head()"
   ]
  },
  {
   "cell_type": "code",
   "execution_count": 32,
   "id": "6614b462-8cc8-4af2-b1f2-d98b8d3c28ae",
   "metadata": {},
   "outputs": [
    {
     "data": {
      "text/plain": [
       "['Unnamed: 0',\n",
       " 'US Height (in)',\n",
       " 'Swedish Height (in)',\n",
       " 'Unnamed: 3',\n",
       " 'Unnamed: 4',\n",
       " 'Unnamed: 5',\n",
       " 'Unnamed: 6',\n",
       " 'Unnamed: 7',\n",
       " 'Unnamed: 8']"
      ]
     },
     "execution_count": 32,
     "metadata": {},
     "output_type": "execute_result"
    }
   ],
   "source": [
    "list(file.columns)"
   ]
  },
  {
   "cell_type": "code",
   "execution_count": 34,
   "id": "f234fc45-3f30-452e-85ef-7ca708bcc874",
   "metadata": {},
   "outputs": [
    {
     "data": {
      "text/plain": [
       "['US Height (in)', 'Swedish Height (in)']"
      ]
     },
     "execution_count": 34,
     "metadata": {},
     "output_type": "execute_result"
    }
   ],
   "source": [
    "file = file.drop(columns=['Unnamed: 0', 'Unnamed: 3', 'Unnamed: 4', 'Unnamed: 5', 'Unnamed: 6', 'Unnamed: 7', 'Unnamed: 8'])\n",
    "list(file.columns)"
   ]
  },
  {
   "cell_type": "code",
   "execution_count": 36,
   "id": "9b211b97-a931-46ce-9e94-e772ed36a9a8",
   "metadata": {},
   "outputs": [
    {
     "name": "stdout",
     "output_type": "stream",
     "text": [
      "69.696\n",
      "71.49633333333334\n",
      "2.9663598343199475\n",
      "2.3588195965119696\n"
     ]
    }
   ],
   "source": [
    "##calculates mean of US column using numpy\n",
    "usMean = np.mean(file['US Height (in)'])\n",
    "print(usMean)\n",
    "\n",
    "##calculates mean of Swedish column using numpy\n",
    "sweMean = np.mean(file['Swedish Height (in)'])\n",
    "print(sweMean)\n",
    "\n",
    "##calculates std of US heights\n",
    "usStd = np.std(file['US Height (in)'])\n",
    "print(usStd)\n",
    "\n",
    "##calculates std of Swedish heights\n",
    "sweStd = np.std(file['Swedish Height (in)'])\n",
    "print(sweStd)\n",
    "\n",
    "#sample size, n\n",
    "n = np.shape(file)[0]"
   ]
  },
  {
   "cell_type": "code",
   "execution_count": 38,
   "id": "4ee14d06-d9e0-456d-9c2b-e886fc02679c",
   "metadata": {},
   "outputs": [
    {
     "name": "stdout",
     "output_type": "stream",
     "text": [
      "-2.601873173829007\n"
     ]
    }
   ],
   "source": [
    "#Null Hypothesis, Ho: M1 - M2 = 0\n",
    "#Alternative Hypothesis, Ha: M1 - M2 != 0\n",
    "#M1: mean height of US male population and M2: mean height of Swedish male population\n",
    "\n",
    "#diff = M1 - M2\n",
    "diff = 0\n",
    "\n",
    "z_value = ((usMean - sweMean) - (diff)) / math.sqrt( ((usStd**2)/n) + ((sweStd**2)/n))\n",
    "print(z_value)"
   ]
  },
  {
   "cell_type": "code",
   "execution_count": 40,
   "id": "afff29fc-735d-41a4-a3b4-637d14e5abf2",
   "metadata": {},
   "outputs": [
    {
     "name": "stdout",
     "output_type": "stream",
     "text": [
      "0.009271613266287438\n"
     ]
    }
   ],
   "source": [
    "#p-value for one sided\n",
    "p_value = stats.norm.sf(abs(z_value))\n",
    "\n",
    "#p-value for two sided\n",
    "print(p_value * 2)"
   ]
  },
  {
   "cell_type": "code",
   "execution_count": 42,
   "id": "465d3f8d-2aa3-435b-bc53-80d68a582d1e",
   "metadata": {},
   "outputs": [
    {
     "name": "stdout",
     "output_type": "stream",
     "text": [
      "0.010523338417549408\n"
     ]
    }
   ],
   "source": [
    "#statsmodels.stats.weightstats.ztest(x1, x2=None, value=0 (M1 - M2), alternative='two-sided', usevar='pooled', ddof= 1.0)¶\n",
    "\n",
    "z_test = ztest(file['US Height (in)'], file['Swedish Height (in)'], 0, \"two-sided\")\n",
    "\n",
    "#output is (test statistic, p-value)\n",
    "p_value2 = z_test[1]\n",
    "print(p_value2)"
   ]
  },
  {
   "cell_type": "code",
   "execution_count": 44,
   "id": "b395553b-8a25-475e-b958-32ad578ffff5",
   "metadata": {},
   "outputs": [
    {
     "name": "stdout",
     "output_type": "stream",
     "text": [
      "we reject null hypothesis. US and Swedish male populations are significantly different in height\n"
     ]
    }
   ],
   "source": [
    "#conclusion\n",
    "if(p_value2 < 0.05):\n",
    "    print(\"we reject null hypothesis. US and Swedish male populations are significantly different in height\")\n",
    "elif (p_value2 >= 0.05):\n",
    "    print(\"we fail to reject null hypothesis\")"
   ]
  },
  {
   "cell_type": "code",
   "execution_count": null,
   "id": "edd1b971-ef43-4798-aac7-958b9146ae69",
   "metadata": {},
   "outputs": [],
   "source": []
  }
 ],
 "metadata": {
  "kernelspec": {
   "display_name": "Python 3 (ipykernel)",
   "language": "python",
   "name": "python3"
  },
  "language_info": {
   "codemirror_mode": {
    "name": "ipython",
    "version": 3
   },
   "file_extension": ".py",
   "mimetype": "text/x-python",
   "name": "python",
   "nbconvert_exporter": "python",
   "pygments_lexer": "ipython3",
   "version": "3.11.5"
  }
 },
 "nbformat": 4,
 "nbformat_minor": 5
}
