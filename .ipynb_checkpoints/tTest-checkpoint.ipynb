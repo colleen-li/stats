{
 "cells": [
  {
   "cell_type": "code",
   "execution_count": 28,
   "id": "54731cbc-4fdc-42ac-b98d-b68cae659d76",
   "metadata": {},
   "outputs": [],
   "source": [
    "#Conditions: population and sample are normally distributed, data is independent, homogeneity of variance\n",
    "\n",
    "#Q: Is there a significant difference between the two groups in perceived life satisfaction?\n",
    "\n",
    "# Null Hypothesis: there are no significant difference between younger and older adults on life satisfaction\n",
    "# Alternative Hypothesis: there is a significant difference between younger and older adults  on life satisfaction\n",
    "# Reference: http://faculty.webster.edu/woolflm/public_html/6aanswer.html"
   ]
  },
  {
   "cell_type": "code",
   "execution_count": 8,
   "id": "b1407b6c-6d7e-4b30-adb8-0c248a7ed650",
   "metadata": {},
   "outputs": [],
   "source": [
    "import scipy.stats as stats\n",
    "import pandas as pd"
   ]
  },
  {
   "cell_type": "code",
   "execution_count": 10,
   "id": "8f4daf98-14ae-4b66-8d72-c9f12f1f6a84",
   "metadata": {},
   "outputs": [],
   "source": [
    "data = pd.read_csv('/Users/colleenl/Documents/datasets/lifeSatisfaction.csv')"
   ]
  },
  {
   "cell_type": "code",
   "execution_count": 12,
   "id": "353dd26f-d3ae-4b38-af54-e89bb422cfbc",
   "metadata": {},
   "outputs": [
    {
     "data": {
      "text/html": [
       "<div>\n",
       "<style scoped>\n",
       "    .dataframe tbody tr th:only-of-type {\n",
       "        vertical-align: middle;\n",
       "    }\n",
       "\n",
       "    .dataframe tbody tr th {\n",
       "        vertical-align: top;\n",
       "    }\n",
       "\n",
       "    .dataframe thead th {\n",
       "        text-align: right;\n",
       "    }\n",
       "</style>\n",
       "<table border=\"1\" class=\"dataframe\">\n",
       "  <thead>\n",
       "    <tr style=\"text-align: right;\">\n",
       "      <th></th>\n",
       "      <th>Older Adults</th>\n",
       "      <th>Younger Adults</th>\n",
       "    </tr>\n",
       "  </thead>\n",
       "  <tbody>\n",
       "    <tr>\n",
       "      <th>0</th>\n",
       "      <td>45</td>\n",
       "      <td>34</td>\n",
       "    </tr>\n",
       "    <tr>\n",
       "      <th>1</th>\n",
       "      <td>38</td>\n",
       "      <td>22</td>\n",
       "    </tr>\n",
       "    <tr>\n",
       "      <th>2</th>\n",
       "      <td>52</td>\n",
       "      <td>15</td>\n",
       "    </tr>\n",
       "    <tr>\n",
       "      <th>3</th>\n",
       "      <td>48</td>\n",
       "      <td>27</td>\n",
       "    </tr>\n",
       "    <tr>\n",
       "      <th>4</th>\n",
       "      <td>25</td>\n",
       "      <td>37</td>\n",
       "    </tr>\n",
       "  </tbody>\n",
       "</table>\n",
       "</div>"
      ],
      "text/plain": [
       "   Older Adults  Younger Adults\n",
       "0            45              34\n",
       "1            38              22\n",
       "2            52              15\n",
       "3            48              27\n",
       "4            25              37"
      ]
     },
     "execution_count": 12,
     "metadata": {},
     "output_type": "execute_result"
    }
   ],
   "source": [
    "data.head()"
   ]
  },
  {
   "cell_type": "code",
   "execution_count": 60,
   "id": "1d3b6139-5ddd-4856-abf7-1c762f0f3ad1",
   "metadata": {},
   "outputs": [
    {
     "name": "stdout",
     "output_type": "stream",
     "text": [
      "4.257546665558161\n",
      "0.00047366331190192256\n",
      "18.0\n"
     ]
    }
   ],
   "source": [
    "#run independent two sample t-test\n",
    "\n",
    "tTest = stats.ttest_ind(data[\"Older Adults\"], data[\"Younger Adults\"])\n",
    "\n",
    "testStatistic = tTest.statistic\n",
    "print(testStatistic)\n",
    "pValue = tTest.pvalue\n",
    "print(pValue)\n",
    "dof = tTest.df\n",
    "print(dof)"
   ]
  },
  {
   "cell_type": "code",
   "execution_count": 62,
   "id": "bdcf977d-5f09-48f5-8324-f66e2c36ba2f",
   "metadata": {},
   "outputs": [
    {
     "name": "stdout",
     "output_type": "stream",
     "text": [
      "we reject null hypothesis. there is a significant difference between younger and older adults on life satisfaction\n"
     ]
    }
   ],
   "source": [
    "#conclusions\n",
    "\n",
    "if(pValue < 0.05):\n",
    "    print(\"we reject null hypothesis. there is a significant difference between younger and older adults on life satisfaction\")\n",
    "elif (pValue >= 0.05):\n",
    "    print(\"we fail to reject null hypothesis\")\n"
   ]
  },
  {
   "cell_type": "code",
   "execution_count": null,
   "id": "0c9a6f94-0f45-4b3e-b3d4-ac3abd97cee8",
   "metadata": {},
   "outputs": [],
   "source": []
  }
 ],
 "metadata": {
  "kernelspec": {
   "display_name": "Python 3 (ipykernel)",
   "language": "python",
   "name": "python3"
  },
  "language_info": {
   "codemirror_mode": {
    "name": "ipython",
    "version": 3
   },
   "file_extension": ".py",
   "mimetype": "text/x-python",
   "name": "python",
   "nbconvert_exporter": "python",
   "pygments_lexer": "ipython3",
   "version": "3.11.5"
  }
 },
 "nbformat": 4,
 "nbformat_minor": 5
}
